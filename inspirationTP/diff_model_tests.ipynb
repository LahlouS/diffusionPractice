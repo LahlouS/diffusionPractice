{
 "cells": [
  {
   "cell_type": "code",
   "execution_count": 1,
   "metadata": {},
   "outputs": [],
   "source": [
    "import tensorflow as tf\n",
    "\n",
    "import matplotlib.pyplot as plt\n",
    "\n",
    "import numpy as np"
   ]
  },
  {
   "cell_type": "code",
   "execution_count": null,
   "metadata": {},
   "outputs": [],
   "source": []
  },
  {
   "cell_type": "code",
   "execution_count": 2,
   "metadata": {},
   "outputs": [
    {
     "name": "stdout",
     "output_type": "stream",
     "text": [
      "(8000, 2)\n"
     ]
    }
   ],
   "source": [
    "num_per_cluster = 1000\n",
    "stddev = 0.1\n",
    "mean = 0\n",
    "\n",
    "centers = tf.constant([[0,1], [1,0], [0,-1], [-1, 0],\n",
    "                    [0.5, 0.5], [0.5, -0.5], [-0.5, -0.5], \n",
    "                    [-0.5,0.5]]) * 4\n",
    "\n",
    "all_data = []\n",
    "for idx in range(centers.shape[0]):\n",
    "  center_data = tf.random.normal(shape=(num_per_cluster, 2), stddev=stddev, mean=mean + centers[idx,:], dtype=tf.float32) # generate a thousand point (x, y) around center[idx] with std = 0.1\n",
    "  all_data.append(center_data)\n",
    "\n",
    "datas = tf.concat(all_data, axis=0)\n",
    "\n",
    "print(datas.shape)\n"
   ]
  },
  {
   "cell_type": "code",
   "execution_count": 3,
   "metadata": {},
   "outputs": [
    {
     "data": {
      "image/png": "[encoded data removed]",
      "text/plain": [
       "<Figure size 500x500 with 1 Axes>"
      ]
     },
     "metadata": {},
     "output_type": "display_data"
    }
   ],
   "source": [
    "\n",
    "plt.figure(figsize=(5, 5))\n",
    "\n",
    "plt.scatter(datas[:, 0], datas[:, 1]) # to plot all our points\n",
    "\n",
    "for center in centers:\n",
    "    plt.scatter(center[0], center[1], marker = 'x', color = 'r')\n",
    "\n",
    "plt.title('test data distribution')\n",
    "plt.grid()\n"
   ]
  },
  {
   "cell_type": "code",
   "execution_count": 4,
   "metadata": {},
   "outputs": [
    {
     "name": "stdout",
     "output_type": "stream",
     "text": [
      "[9.9999997e-05 1.1083451e-04 1.2222615e-04 1.3417492e-04 1.4668083e-04\n",
      " 1.5974390e-04 1.7336408e-04 1.8754142e-04 2.0227590e-04 2.1756750e-04]\n"
     ]
    }
   ],
   "source": [
    "num_diffusion_timesteps=250\n",
    "beta_start=0.0001\n",
    "beta_end=0.02\n",
    "schedule_type='linear'\n",
    "\n",
    "betas = np.linspace(beta_start ** 0.5, beta_end ** 0.5, num_diffusion_timesteps, dtype=np.float32) ** 2\n",
    "\n",
    "print(betas[:10])"
   ]
  },
  {
   "cell_type": "markdown",
   "metadata": {},
   "source": [
    "##### betas schedule is basically an array of values called betas that are the standart deviation of the gaussian nois of the corresponding diffusion step. ther is multiple ways of creating bets schedule, the easiest way is a linear function. betas value increase as we get closer to the end of the process"
   ]
  },
  {
   "cell_type": "code",
   "execution_count": 11,
   "metadata": {},
   "outputs": [
    {
     "name": "stdout",
     "output_type": "stream",
     "text": [
      "250\n"
     ]
    }
   ],
   "source": [
    "# test beta schedule\n",
    "beta_start = 1e-4\n",
    "betas_end = 2e-2\n",
    "diffusions_step = 250\n",
    "\n",
    "beta_schedule = np.linspace(beta_start, betas_end, diffusions_step, dtype=np.float32)\n",
    "\n",
    "print(len(beta_schedule))"
   ]
  },
  {
   "cell_type": "code",
   "execution_count": null,
   "metadata": {},
   "outputs": [],
   "source": []
  }
 ],
 "metadata": {
  "kernelspec": {
   "display_name": "devIA",
   "language": "python",
   "name": "python3"
  },
  "language_info": {
   "codemirror_mode": {
    "name": "ipython",
    "version": 3
   },
   "file_extension": ".py",
   "mimetype": "text/x-python",
   "name": "python",
   "nbconvert_exporter": "python",
   "pygments_lexer": "ipython3",
   "version": "3.12.2"
  }
 },
 "nbformat": 4,
 "nbformat_minor": 2
}
